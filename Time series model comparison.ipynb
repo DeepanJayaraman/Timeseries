{
 "cells": [
  {
   "cell_type": "code",
   "execution_count": null,
   "id": "1f5415ae",
   "metadata": {},
   "outputs": [],
   "source": [
    "import pandas as pd\n",
    "import numpy as np\n",
    "from statsmodels.tsa.holtwinters import ExponentialSmoothing\n",
    "from pmdarima.arima import auto_arima\n",
    "from fbprophet import Prophet\n",
    "from sklearn.metrics import mean_squared_error\n",
    "\n",
    "def time_series_models_comparison():\n",
    "    # Load the dataset\n",
    "    dataset = pd.read_csv(\"data.csv\", parse_dates=[\"ds\"])\n",
    "    \n",
    "    # Complete missing dates and fill missing values\n",
    "    dates = pd.date_range(start=\"1980-01-01\", end=\"2012-12-01\", freq=\"M\")\n",
    "    dataset = dataset.set_index(\"ds\").reindex(dates).reset_index()\n",
    "    dataset = dataset.fillna(method=\"ffill\")\n",
    "    \n",
    "    # Split the dataset into training and test sets\n",
    "    trainset = dataset[:-24].copy()\n",
    "    testset = dataset[-24:].copy()\n",
    "    \n",
    "    # Fit ARIMA model\n",
    "    model_arima = auto_arima(trainset[\"y\"], suppress_warnings=True)\n",
    "    forecast_arima = model_arima.predict(n_periods=24)\n",
    "    \n",
    "    # Fit prophet model\n",
    "    model_prophet = Prophet(algorithm=\"Newton\")\n",
    "    model_prophet.fit(trainset[[\"ds\", \"y\"]].rename(columns={\"ds\": \"ds\", \"y\": \"y\"}))\n",
    "    future = model_prophet.make_future_dataframe(periods=24, freq=\"M\")\n",
    "    forecast_prophet = model_prophet.predict(future)[\"yhat\"].tail(24).values\n",
    "    \n",
    "    # Fit exponential smoothing model\n",
    "    model_ex_smooth = ExponentialSmoothing(trainset[\"y\"])\n",
    "    model_ex_smooth = model_ex_smooth.fit()\n",
    "    forecast_ex_smooth = model_ex_smooth.forecast(24)\n",
    "    \n",
    "    # Calculate mean squared errors\n",
    "    mse_arima = mean_squared_error(testset[\"y\"], forecast_arima)\n",
    "    mse_prophet = mean_squared_error(testset[\"y\"], forecast_prophet)\n",
    "    mse_ex_smooth = mean_squared_error(testset[\"y\"], forecast_ex_smooth)\n",
    "    \n",
    "    # Create a dictionary with the results\n",
    "    forecasts = pd.DataFrame({\"arima\": forecast_arima, \"prophet\": forecast_prophet, \"ex_smooth\": forecast_ex_smooth}, index=testset.index)\n",
    "    errors = pd.DataFrame({\"model\": [\"arima\", \"prophet\", \"ex_smooth\"], \"mse\": [mse_arima, mse_prophet, mse_ex_smooth]})\n",
    "    \n",
    "    result = {\"trainset\": trainset, \"testset\": testset, \"forecasts\": forecasts, \"errors\": errors}\n",
    "    \n",
    "    return result\n"
   ]
  }
 ],
 "metadata": {
  "kernelspec": {
   "display_name": "Python 3",
   "language": "python",
   "name": "python3"
  },
  "language_info": {
   "codemirror_mode": {
    "name": "ipython",
    "version": 3
   },
   "file_extension": ".py",
   "mimetype": "text/x-python",
   "name": "python",
   "nbconvert_exporter": "python",
   "pygments_lexer": "ipython3",
   "version": "3.8.8"
  }
 },
 "nbformat": 4,
 "nbformat_minor": 5
}
